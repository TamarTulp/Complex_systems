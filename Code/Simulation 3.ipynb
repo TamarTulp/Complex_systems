{
 "cells": [
  {
   "cell_type": "markdown",
   "metadata": {},
   "source": [
    "## How to get a heavily connected system out of a depressed state."
   ]
  },
  {
   "cell_type": "code",
   "execution_count": 1,
   "metadata": {},
   "outputs": [],
   "source": [
    "# Import libraries\n",
    "import pandas as pd\n",
    "import networkx as nx\n",
    "import matplotlib.pyplot as plt\n",
    "import numpy as np\n",
    "import json\n",
    "import random"
   ]
  },
  {
   "cell_type": "code",
   "execution_count": 2,
   "metadata": {},
   "outputs": [],
   "source": [
    "# Import input files\n",
    "weightsParam = pd.read_csv('../Data/EmpiricalWeightParameters.txt',delimiter='\\t',encoding='utf-8')\n",
    "thresholdParam = pd.read_csv('../Data/EmpiricalThresholdParameters.txt',delimiter=',',encoding='utf-8').set_index(\"var\")\n",
    "\n",
    "# Set right index\n",
    "keyArr = np.array(weightsParam.keys())\n",
    "weightsParam = weightsParam.set_index(keyArr)"
   ]
  },
  {
   "cell_type": "code",
   "execution_count": 47,
   "metadata": {},
   "outputs": [],
   "source": [
    "# Simulation 3\n",
    "\n",
    "def check_MD(X):\n",
    "    count = 0\n",
    "    \n",
    "    normal = [0,1,10,11,12,13]\n",
    "    crit3 = [2,3,4,5]\n",
    "    crit4 = [6,7]\n",
    "    crit5 = [8,9]\n",
    "    \n",
    "    for n in normal:\n",
    "        if X[n] == True:\n",
    "            count += 1\n",
    "    \n",
    "    for c in crit3:\n",
    "        if X[c] == True:\n",
    "            count += 1\n",
    "            break\n",
    "            \n",
    "    for c in crit4:\n",
    "        if X[c] == True:\n",
    "            count += 1\n",
    "            break\n",
    "            \n",
    "    for c in crit5:\n",
    "        if X[c] == True:\n",
    "            count += 1\n",
    "            break\n",
    "    return count\n",
    "            \n",
    "def sim(b):\n",
    "    I = 1000\n",
    "\n",
    "    W = np.asarray(weightsParam)\n",
    "    c = 2\n",
    "\n",
    "    X = np.zeros(b.shape, np.bool)\n",
    "    D = np.empty(I, np.uint8)\n",
    "    no_MD = 0\n",
    "\n",
    "    for i in range(I):\n",
    "        A = np.sum(c*W*X, axis=1)\n",
    "        P = 1 / (1 + np.exp(b-A))\n",
    "        X = P > np.random.uniform(0, 1, P.shape)\n",
    "\n",
    "        D[i] = np.sum(X)\n",
    "        \n",
    "        if check_MD(X) < 5:\n",
    "            no_MD +=1\n",
    "    \n",
    "    return no_MD\n",
    "\n",
    "def plot(D):       \n",
    "    plt.plot(D)\n",
    "    plt.ylim(0, 14)\n",
    "    plt.axis('on')\n",
    "    plt.show()\n",
    "    \n",
    "def make_b(numberof):\n",
    "    b = np.abs(np.asarray(thresholdParam).ravel())\n",
    "    r = random.sample(range(0,13),numberof)\n",
    "    \n",
    "    for i in range(numberof):\n",
    "        b[r[i]] = 100\n",
    "        \n",
    "    return b"
   ]
  },
  {
   "cell_type": "markdown",
   "metadata": {},
   "source": [
    "A heavily connected network goes fast from 0 to depressed and stays high in the drepressed state. It might be a solution to up the threshold for persons with a heavily connected network, since this effectively diminishes their weigth they can add to the other symptons. C won't change, since some people are just more heavily connected and it is equally difficult to change the weight two symptoms have, since they are connected and can not de deconnected (you can deconnect los of appetite and weight loss, it just not possible). So the only thing left over to deconnect is the threshold. So let's try and see which thresholds should become higher to decrease the activation. \n",
    "A symptom can be a link(like insomnia and retardation is linked by fatigue)."
   ]
  },
  {
   "cell_type": "code",
   "execution_count": 51,
   "metadata": {},
   "outputs": [],
   "source": [
    "I = 100\n",
    "parameters = np.linspace(0,13,14)\n",
    "averages = []\n",
    "\n",
    "\n",
    "for parameter in parameters:\n",
    "    lijst = []\n",
    "    for i in range(I):\n",
    "        B = make_b(int(parameter))\n",
    "        lijst.append(sim(B))\n",
    "    averages.append(np.mean(lijst))\n"
   ]
  },
  {
   "cell_type": "code",
   "execution_count": 52,
   "metadata": {},
   "outputs": [
    {
     "data": {
      "image/png": "[encoded data removed]",
      "text/plain": [
       "<matplotlib.figure.Figure at 0x11b7b84a8>"
      ]
     },
     "metadata": {},
     "output_type": "display_data"
    }
   ],
   "source": [
    "plt.plot(averages)\n",
    "plt.show()"
   ]
  },
  {
   "cell_type": "code",
   "execution_count": 53,
   "metadata": {},
   "outputs": [
    {
     "data": {
      "text/plain": [
       "[5.7699999999999996,\n",
       " 7.4900000000000002,\n",
       " 23.370000000000001,\n",
       " 64.109999999999999,\n",
       " 244.0,\n",
       " 418.75999999999999,\n",
       " 618.98000000000002,\n",
       " 811.94000000000005,\n",
       " 910.54999999999995,\n",
       " 991.10000000000002,\n",
       " 1000.0,\n",
       " 1000.0,\n",
       " 1000.0,\n",
       " 1000.0]"
      ]
     },
     "execution_count": 53,
     "metadata": {},
     "output_type": "execute_result"
    }
   ],
   "source": [
    "averages"
   ]
  },
  {
   "cell_type": "code",
   "execution_count": null,
   "metadata": {},
   "outputs": [],
   "source": []
  }
 ],
 "metadata": {
  "kernelspec": {
   "display_name": "Python 3",
   "language": "python",
   "name": "python3"
  },
  "language_info": {
   "codemirror_mode": {
    "name": "ipython",
    "version": 3
   },
   "file_extension": ".py",
   "mimetype": "text/x-python",
   "name": "python",
   "nbconvert_exporter": "python",
   "pygments_lexer": "ipython3",
   "version": "3.6.0"
  }
 },
 "nbformat": 4,
 "nbformat_minor": 2
}
