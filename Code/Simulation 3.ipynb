{
 "cells": [
  {
   "cell_type": "markdown",
   "metadata": {},
   "source": [
    "## How to get a heavily connected system out of a depressed state."
   ]
  },
  {
   "cell_type": "code",
   "execution_count": 1,
   "metadata": {},
   "outputs": [],
   "source": [
    "# Import libraries\n",
    "import pandas as pd\n",
    "import networkx as nx\n",
    "import matplotlib.pyplot as plt\n",
    "import numpy as np\n",
    "import json\n",
    "import random"
   ]
  },
  {
   "cell_type": "code",
   "execution_count": 2,
   "metadata": {},
   "outputs": [],
   "source": [
    "# Import input files\n",
    "weightsParam = pd.read_csv('../Data/EmpiricalWeightParameters.txt',delimiter='\\t',encoding='utf-8')\n",
    "thresholdParam = pd.read_csv('../Data/EmpiricalThresholdParameters.txt',delimiter=',',encoding='utf-8').set_index(\"var\")\n",
    "\n",
    "# Set right index\n",
    "keyArr = np.array(weightsParam.keys())\n",
    "weightsParam = weightsParam.set_index(keyArr)"
   ]
  },
  {
   "cell_type": "code",
   "execution_count": 3,
   "metadata": {},
   "outputs": [],
   "source": [
    "normal = [0,1,10,11,12,13]\n",
    "crit3 = [2,3,4,5]\n",
    "crit4 = [6,7]\n",
    "crit5 = [8,9]\n",
    "\n",
    "def check_MD(X):\n",
    "    count = 0\n",
    "    \n",
    "    for n in normal:\n",
    "        if X[n] == True:\n",
    "            count += 1\n",
    "    \n",
    "    for c in crit3:\n",
    "        if X[c] == True:\n",
    "            count += 1\n",
    "            break\n",
    "            \n",
    "    for c in crit4:\n",
    "        if X[c] == True:\n",
    "            count += 1\n",
    "            break\n",
    "            \n",
    "    for c in crit5:\n",
    "        if X[c] == True:\n",
    "            count += 1\n",
    "            break\n",
    "            \n",
    "    return count\n",
    "\n",
    "\n",
    "def sim(b):\n",
    "    I = 1000\n",
    "\n",
    "    W = np.asarray(weightsParam)\n",
    "    c = 2\n",
    "\n",
    "    X = np.zeros(b.shape, np.bool)\n",
    "    D = np.empty(I, np.uint8)\n",
    "    no_MD = 0\n",
    "\n",
    "    for i in range(I):\n",
    "        A = np.sum(c*W*X, axis=1)\n",
    "        P = 1 / (1 + np.exp(b-A))\n",
    "        X = P > np.random.uniform(0, 1, P.shape)\n",
    "\n",
    "        D[i] = np.sum(X)\n",
    "        \n",
    "        if check_MD(X) < 5:\n",
    "            no_MD +=1\n",
    "    \n",
    "    return no_MD\n",
    "\n",
    "\n",
    "# Generate threshold, with a specific number of random thresholds increased.\n",
    "def make_b_random(numberof):\n",
    "    b = np.abs(np.asarray(thresholdParam).ravel())\n",
    "    r = random.sample(range(0,13), numberof)\n",
    "    \n",
    "    for i in range(numberof):\n",
    "        b[r[i]] = 100\n",
    "        \n",
    "    return b\n",
    "\n",
    "def make_b_notrandom():\n",
    "#     TODO\n",
    "    return b"
   ]
  },
  {
   "cell_type": "markdown",
   "metadata": {},
   "source": [
    "A heavily connected network goes fast from 0 to depressed and stays high in the drepressed state. It might be a solution to up the threshold for persons with a heavily connected network, since this effectively diminishes their weigth they can add to the other symptons. C won't change, since some people are just more heavily connected and it is equally difficult to change the weight two symptoms have, since they are connected and can not de deconnected (you can deconnect los of appetite and weight loss, it just not possible). So the only thing left over to deconnect is the threshold. So let's try and see which thresholds should become higher to decrease the activation. \n",
    "A symptom can be a link(like insomnia and retardation is linked by fatigue). "
   ]
  },
  {
   "cell_type": "code",
   "execution_count": 4,
   "metadata": {},
   "outputs": [],
   "source": [
    "# General case\n",
    "\n",
    "I = 100\n",
    "parameters = np.linspace(0,13,14)\n",
    "averages = []\n",
    "\n",
    "for parameter in parameters:\n",
    "    time_not_MD = []\n",
    "    for i in range(I):\n",
    "        B = make_b_random(int(parameter))\n",
    "        time_not_MD.append(sim(B))\n",
    "    averages.append(np.mean(time_not_MD)/1000)\n"
   ]
  },
  {
   "cell_type": "code",
   "execution_count": 5,
   "metadata": {},
   "outputs": [
    {
     "data": {
      "image/png": "[encoded data removed]",
      "text/plain": [
       "<matplotlib.figure.Figure at 0x10cee7f60>"
      ]
     },
     "metadata": {},
     "output_type": "display_data"
    }
   ],
   "source": [
    "plt.plot(averages)\n",
    "plt.title(\"Averaged time somebody is not in a MD over number of shutdown symptoms\")\n",
    "plt.show()"
   ]
  },
  {
   "cell_type": "code",
   "execution_count": 6,
   "metadata": {},
   "outputs": [
    {
     "data": {
      "text/plain": [
       "[0.0060499999999999998,\n",
       " 0.0078300000000000002,\n",
       " 0.01188,\n",
       " 0.085510000000000003,\n",
       " 0.21996000000000002,\n",
       " 0.41510000000000002,\n",
       " 0.52198,\n",
       " 0.78317999999999999,\n",
       " 0.91652999999999996,\n",
       " 0.98207,\n",
       " 1.0,\n",
       " 1.0,\n",
       " 1.0,\n",
       " 1.0]"
      ]
     },
     "execution_count": 6,
     "metadata": {},
     "output_type": "execute_result"
    }
   ],
   "source": [
    "averages"
   ]
  }
 ],
 "metadata": {
  "kernelspec": {
   "display_name": "Python 3",
   "language": "python",
   "name": "python3"
  },
  "language_info": {
   "codemirror_mode": {
    "name": "ipython",
    "version": 3
   },
   "file_extension": ".py",
   "mimetype": "text/x-python",
   "name": "python",
   "nbconvert_exporter": "python",
   "pygments_lexer": "ipython3",
   "version": "3.6.0"
  }
 },
 "nbformat": 4,
 "nbformat_minor": 2
}
