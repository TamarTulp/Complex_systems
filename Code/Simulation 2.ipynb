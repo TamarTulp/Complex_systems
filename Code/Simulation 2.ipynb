{
 "cells": [
  {
   "cell_type": "code",
   "execution_count": 1,
   "metadata": {},
   "outputs": [],
   "source": [
    "# Import libraries\n",
    "import pandas as pd\n",
    "import networkx as nx\n",
    "import matplotlib.pyplot as plt\n",
    "import numpy as np\n",
    "import json"
   ]
  },
  {
   "cell_type": "code",
   "execution_count": 2,
   "metadata": {},
   "outputs": [],
   "source": [
    "# Import input files\n",
    "weightsParam = pd.read_csv('../Data/EmpiricalWeightParameters.txt',delimiter='\\t',encoding='utf-8')\n",
    "thresholdParam = pd.read_csv('../Data/EmpiricalThresholdParameters.txt',delimiter=',',encoding='utf-8').set_index(\"var\")\n",
    "\n",
    "# Set right index\n",
    "keyArr = np.array(weightsParam.keys())\n",
    "weightsParam = weightsParam.set_index(keyArr)"
   ]
  },
  {
   "cell_type": "code",
   "execution_count": 158,
   "metadata": {},
   "outputs": [],
   "source": [
    "# Simulation 2\n",
    "\n",
    "I = 10000\n",
    "\n",
    "W = np.asarray(weightsParam)\n",
    "b = np.abs(np.asarray(thresholdParam).ravel())\n",
    "c = 2\n",
    "\n",
    "X = np.zeros(b.shape, np.bool)\n",
    "D = np.empty(I, np.uint8)\n",
    "S = np.concatenate((np.linspace(-15, 15, int(I/2)), np.linspace(15, -15, int(I/2))))\n",
    "\n",
    "for i in range(I):\n",
    "    A = np.sum(c*W*X +S[i], axis=1)\n",
    "    P = 1 / (1 + np.exp(b-A))\n",
    "    X = P > np.random.uniform(0, 1, P.shape)\n",
    "    \n",
    "    D[i] = np.sum(X)"
   ]
  },
  {
   "cell_type": "code",
   "execution_count": 159,
   "metadata": {},
   "outputs": [
    {
     "data": {
      "image/png": "[encoded data removed]",
      "text/plain": [
       "<matplotlib.figure.Figure at 0x111820630>"
      ]
     },
     "metadata": {},
     "output_type": "display_data"
    }
   ],
   "source": [
    "plt.scatter(S[0:5000], D[0:5000],marker=\".\")\n",
    "plt.scatter(S[5001:10000], D[5001:10000],marker=\".\")\n",
    "\n",
    "plt.xlim(-1, 2)\n",
    "plt.axis('on')\n",
    "plt.show()"
   ]
  },
  {
   "cell_type": "code",
   "execution_count": null,
   "metadata": {},
   "outputs": [],
   "source": []
  }
 ],
 "metadata": {
  "kernelspec": {
   "display_name": "Python 3",
   "language": "python",
   "name": "python3"
  },
  "language_info": {
   "codemirror_mode": {
    "name": "ipython",
    "version": 3
   },
   "file_extension": ".py",
   "mimetype": "text/x-python",
   "name": "python",
   "nbconvert_exporter": "python",
   "pygments_lexer": "ipython3",
   "version": "3.6.0"
  }
 },
 "nbformat": 4,
 "nbformat_minor": 2
}
