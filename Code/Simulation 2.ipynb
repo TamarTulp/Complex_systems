{
 "cells": [
  {
   "cell_type": "code",
   "execution_count": 1,
   "metadata": {},
   "outputs": [
    {
     "ename": "ModuleNotFoundError",
     "evalue": "No module named 'networkx'",
     "output_type": "error",
     "traceback": [
      "\u001b[1;31m---------------------------------------------------------------------------\u001b[0m",
      "\u001b[1;31mModuleNotFoundError\u001b[0m                       Traceback (most recent call last)",
      "\u001b[1;32m<ipython-input-1-14a5e7a40302>\u001b[0m in \u001b[0;36m<module>\u001b[1;34m()\u001b[0m\n\u001b[0;32m      1\u001b[0m \u001b[1;31m# Import libraries\u001b[0m\u001b[1;33m\u001b[0m\u001b[1;33m\u001b[0m\u001b[0m\n\u001b[0;32m      2\u001b[0m \u001b[1;32mimport\u001b[0m \u001b[0mpandas\u001b[0m \u001b[1;32mas\u001b[0m \u001b[0mpd\u001b[0m\u001b[1;33m\u001b[0m\u001b[0m\n\u001b[1;32m----> 3\u001b[1;33m \u001b[1;32mimport\u001b[0m \u001b[0mnetworkx\u001b[0m \u001b[1;32mas\u001b[0m \u001b[0mnx\u001b[0m\u001b[1;33m\u001b[0m\u001b[0m\n\u001b[0m\u001b[0;32m      4\u001b[0m \u001b[1;32mimport\u001b[0m \u001b[0mmatplotlib\u001b[0m\u001b[1;33m.\u001b[0m\u001b[0mpyplot\u001b[0m \u001b[1;32mas\u001b[0m \u001b[0mplt\u001b[0m\u001b[1;33m\u001b[0m\u001b[0m\n\u001b[0;32m      5\u001b[0m \u001b[1;32mimport\u001b[0m \u001b[0mnumpy\u001b[0m \u001b[1;32mas\u001b[0m \u001b[0mnp\u001b[0m\u001b[1;33m\u001b[0m\u001b[0m\n",
      "\u001b[1;31mModuleNotFoundError\u001b[0m: No module named 'networkx'"
     ]
    }
   ],
   "source": [
    "# Import libraries\n",
    "import pandas as pd\n",
    "import networkx as nx\n",
    "import matplotlib.pyplot as plt\n",
    "import numpy as np\n",
    "import json\n",
    "from mpl_toolkits.mplot3d import axes3d"
   ]
  },
  {
   "cell_type": "code",
   "execution_count": null,
   "metadata": {},
   "outputs": [],
   "source": [
    "# Import input files\n",
    "weightsParam = pd.read_csv('../Data/EmpiricalWeightParameters.txt',delimiter='\\t',encoding='utf-8')\n",
    "thresholdParam = pd.read_csv('../Data/EmpiricalThresholdParameters.txt',delimiter=',',encoding='utf-8').set_index(\"var\")\n",
    "\n",
    "# Set right index\n",
    "keyArr = np.array(weightsParam.keys())\n",
    "weightsParam = weightsParam.set_index(keyArr)"
   ]
  },
  {
   "cell_type": "code",
   "execution_count": null,
   "metadata": {},
   "outputs": [],
   "source": [
    "# Simulation 2\n",
    "\n",
    "I = 10000\n",
    "\n",
    "W = np.asarray(weightsParam)\n",
    "b = np.abs(np.asarray(thresholdParam).ravel())\n",
    "c = 0.8\n",
    "\n",
    "X = np.zeros(b.shape, np.bool)\n",
    "D = np.empty(I, np.uint8)\n",
    "S = np.concatenate((np.linspace(-15, 15, int(I/2)), np.linspace(15, -15, int(I/2))))\n",
    "\n",
    "for i in range(I):\n",
    "    A = np.sum(c*W*X +S[i], axis=1)\n",
    "    P = 1 / (1 + np.exp(b-A))\n",
    "    X = P > np.random.uniform(0, 1, P.shape)\n",
    "    \n",
    "    D[i] = np.sum(X)"
   ]
  },
  {
   "cell_type": "code",
   "execution_count": null,
   "metadata": {},
   "outputs": [],
   "source": [
    "plt.scatter(S[0:5000], D[0:5000],marker=\".\")\n",
    "plt.scatter(S[5001:10000], D[5001:10000],marker=\".\")\n",
    "\n",
    "plt.xlim(-1, 2)\n",
    "plt.axis('on')\n",
    "plt.show()"
   ]
  },
  {
   "cell_type": "code",
   "execution_count": null,
   "metadata": {},
   "outputs": [],
   "source": [
    "# The population is constant\n",
    "N = 1.0\n",
    "\n",
    "#The parameter values\n",
    "B = 0.2 # transmission rate I\n",
    "g = 0.01 # recovery rate\n",
    "e = 0.1 # transmission rate C\n",
    "u = 0.02 # birth/death rate\n",
    "q = 0.2 # prop I -> C\n",
    "z = 0.001 # rate C -> R\n",
    "\n",
    "# Time\n",
    "t = np.linspace(0,606,6000)\n",
    "\n",
    "fig = plt.figure(facecolor='w', figsize=(10,10), dpi=80)\n",
    "ax = fig.add_subplot(111, facecolor='0.98', projection='3d')\n",
    "ax.set_xlim3d(1.1,-0.1)\n",
    "ax.set_ylim3d(-0.1,1.1)\n",
    "ax.set_zlim3d(1.1, -0.1)\n",
    "ax.set_title('SICR, Phase Space S, I and C')\n",
    "ax.set_xlabel('Susceptibles')\n",
    "ax.set_ylabel('Infected')\n",
    "ax.set_zlabel('Carriers')\n",
    "\n",
    "for x in np.linspace(0.0,0.946,30):\n",
    "    S0 = x\n",
    "    I0 = 0.0004\n",
    "    R0 = 0.05\n",
    "    C0 = 1.0 - S0 - I0 - R0\n",
    "    S, I, C, R = run_SICR(t, N, B, g, e, u, q, z)\n",
    "    ax.plot(S, I, C)\n",
    "\n",
    "for i in np.linspace(0.0,0.946,30):\n",
    "    I0 = i\n",
    "    C0 = 0.0\n",
    "    R0 = 0.05\n",
    "    S0 = 1.0 - I0 - R0 - C0\n",
    "    S, I, C, R = run_SICR(t, N, B, g, e, u, q, z)\n",
    "    ax.plot(S, I, C)\n",
    "    \n",
    "for c in np.linspace(0.0,0.946,30):\n",
    "    C0 = c\n",
    "    I0 = 0.004\n",
    "    R0 = 0.05\n",
    "    S0 = 1.0 - C0 - I0 - R0\n",
    "    S, I, C, R = run_SICR(t, N, B, g, e, u, q, z)\n",
    "    ax.plot(S, I, C)\n",
    "\n",
    "ax.plot([S[-1]], [I[-1]], [C[-1]], 'ko', markersize=5, alpha=0.6)\n",
    "ax.plot([1.0], [0.0], [0.0], 'ko', markersize=5, alpha=0.6)\n",
    "ax.text(0.05, 0.45, 0.04, \"Equilibrium\", color='k')\n",
    "ax.text(1.0, 0.0, -0.05, \"Equilibrium\", color='k')\n",
    "\n",
    "plt.show()\n"
   ]
  },
  {
   "cell_type": "code",
   "execution_count": null,
   "metadata": {},
   "outputs": [],
   "source": []
  }
 ],
 "metadata": {
  "kernelspec": {
   "display_name": "Python 3",
   "language": "python",
   "name": "python3"
  },
  "language_info": {
   "codemirror_mode": {
    "name": "ipython",
    "version": 3
   },
   "file_extension": ".py",
   "mimetype": "text/x-python",
   "name": "python",
   "nbconvert_exporter": "python",
   "pygments_lexer": "ipython3",
   "version": "3.6.4"
  }
 },
 "nbformat": 4,
 "nbformat_minor": 2
}
