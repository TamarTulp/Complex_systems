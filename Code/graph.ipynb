{
 "cells": [
  {
   "cell_type": "code",
   "execution_count": 1,
   "metadata": {},
   "outputs": [],
   "source": [
    "# Import libraries\n",
    "import pandas as pd\n",
    "import networkx as nx\n",
    "import matplotlib.pyplot as plt\n",
    "import numpy as np\n",
    "import json"
   ]
  },
  {
   "cell_type": "code",
   "execution_count": 2,
   "metadata": {},
   "outputs": [],
   "source": [
    "# Import input files\n",
    "weightsParam = pd.read_csv('../Data/EmpiricalWeightParameters.txt',delimiter='\\t',encoding='utf-8')\n",
    "thresholdParam = pd.read_csv('../Data/EmpiricalThresholdParameters.txt',delimiter=',',encoding='utf-8').set_index(\"var\")\n",
    "\n",
    "# Set right index\n",
    "keyArr = np.array(weightsParam.keys())\n",
    "weightsParam = weightsParam.set_index(keyArr)"
   ]
  },
  {
   "cell_type": "markdown",
   "metadata": {},
   "source": [
    "The formal dynamic systems model of MD\n",
    "--------------------------------------"
   ]
  },
  {
   "cell_type": "markdown",
   "metadata": {},
   "source": [
    "We begin developing the formal model of MD by assuming the following: 1) symptoms (Xi) can be ‘on’ (1; active) or ‘off’ (0; inactive); 2) symptom activation takes place over time (t) such that, for example, insomnia at timetmay cause activation of fatigue at timet+ 1; and 3) a symptom ireceives input from symptoms with which it is connected in the VATSPUD data (i.e., these are non-zero weight parameters). These weight parameters are collected in a matrix **W** for the J=14 symptoms: entry $\\mathbf{W}_{ij}$ thus represents the logistic regression weight between symptomsiandjas estimated from the VATSPUD data (as one can see in Fig 2 the weight parameters from the data are used in the subsequent simulations with our model). Model formulation now proceeds along the following steps: \n",
    "\n",
    "#### Total Activation Function\n",
    "We assume that the total amount of activation a symptom *i* receives at time *t* is the weighted (by **W**) summation of all the neighboring symptoms **X** (i.e., the vector that contains the “0” and “1” values of being inactive and active respectively) at timet– 1. We call this the *total activation function* (boldfaced parameters are estimated from the VATSPUD data):\n",
    "\n",
    "$A^t_i = \\sum^J_{j=1} \\mathbf{W}_{ij}X_j^{t-1}$\n",
    "\n",
    "#### Probability Function\n",
    "We formulate a logistic function for computing the probability of symptomibecoming active at timet: the probability of symptomibecoming active at timetdepends on the difference between the total activation of its neighboring symptoms and the threshold of symptomi(in the formula below: $(b_i—A_i^t)$). This threshold is estimated from the VATSPUD data (see also Fig 2). Note that the parameter $\\mathbf{b}_i$ denotes the absolute value of these estimated thresholds. The more the total activation exceeds the threshold of symptomiat timet, the higher the probability that symptomibecomes active (in the formula below: $P(X_i^t = 1)$) at timet. We call this the *probability function* (boldfaced parameters are estimated from the VATSPUD data):\n",
    "\n",
    "$P(X_i^t=1) = \\frac{1}{1+e^{\\mathbf{b_i}-A_i^t}}$\n",
    "\n",
    "**The simulation study**. To investigate our vulnerability hypothesis, we inserted a connectivity parameter *c* with which matrix **$W$** is multiplied. This results in the following modified *total activation function*:\n",
    "\n",
    "$A^t_i = \\sum^J_{j=1} c\\mathbf{W}_{ij}X_j^{t-1}$"
   ]
  },
  {
   "cell_type": "code",
   "execution_count": 125,
   "metadata": {},
   "outputs": [
    {
     "data": {
      "image/png": "[encoded data removed]",
      "text/plain": [
       "<matplotlib.figure.Figure at 0x1677fb5d080>"
      ]
     },
     "metadata": {},
     "output_type": "display_data"
    }
   ],
   "source": [
    "# Simulation 1\n",
    "\n",
    "I = 1500\n",
    "\n",
    "W = np.asarray(weightsParam)\n",
    "b = np.abs(np.asarray(thresholdParam).ravel())\n",
    "c = 2\n",
    "\n",
    "X = np.zeros(b.shape, np.bool)\n",
    "D = np.empty(I, np.uint8)\n",
    "\n",
    "for i in range(I):\n",
    "    A = np.sum(c*W*X, axis=1)\n",
    "    P = 1 / (1 + np.exp(b-A))\n",
    "    X = P > np.random.uniform(0, 1, P.shape)\n",
    "    \n",
    "    D[i] = np.sum(X)\n",
    "\n",
    "plt.plot(D)\n",
    "plt.ylim(0, 14)\n",
    "plt.axis('on')\n",
    "plt.show()"
   ]
  },
  {
   "cell_type": "code",
   "execution_count": 3,
   "metadata": {},
   "outputs": [],
   "source": [
    "# Init \n",
    "G = nx.Graph()\n",
    "thresholds = {}\n",
    "activationValues = {}\n",
    "stateValues = {}\n",
    "\n",
    "# Code for dataframe straight to graph (not enough options)\n",
    "G = nx.from_pandas_adjacency(weightsParam)"
   ]
  },
  {
   "cell_type": "code",
   "execution_count": 4,
   "metadata": {},
   "outputs": [],
   "source": [
    "# Fill graph\n",
    "for key in keyArr:\n",
    "    thresholds[key] = thresholdParam.at[key, \"threshold\"]\n",
    "    activationValues[key] = 0\n",
    "    stateValues[key] = 0\n",
    "\n",
    "# Fill node attributes\n",
    "nx.set_node_attributes(G, thresholds, name=\"threshold\")\n",
    "nx.set_node_attributes(G, startingValues, name=\"activationValues\")\n",
    "nx.set_node_attributes(G, stateValues, name=\"stateValues\")"
   ]
  },
  {
   "cell_type": "code",
   "execution_count": 5,
   "metadata": {},
   "outputs": [],
   "source": [
    "# Fucking around with layout????\n",
    "# ?? nx.spring_layout\n",
    "\n",
    "#     for index, row in weightsParam.iterrows():\n",
    "#         if key != index and row[key] != 0:\n",
    "#             G.add_edge(index, key, weight=row[key])"
   ]
  },
  {
   "cell_type": "code",
   "execution_count": 6,
   "metadata": {},
   "outputs": [
    {
     "data": {
      "image/png": "[encoded data removed]",
      "text/plain": [
       "<matplotlib.figure.Figure at 0x1677bcd78d0>"
      ]
     },
     "metadata": {},
     "output_type": "display_data"
    }
   ],
   "source": [
    "# Create bins for different edges\n",
    "elarge = [(u, v) for (u, v, d) in G.edges(data=True) if d['weight'] > 1.5]\n",
    "emedium = [(u, v) for (u, v, d) in G.edges(data=True) if d['weight'] <= 1.5 and d['weight'] > 0.5]\n",
    "esmall = [(u, v) for (u, v, d) in G.edges(data=True) if d['weight'] <= 0.5]\n",
    "\n",
    "pos = nx.spring_layout(G)  # positions for all nodes\n",
    "\n",
    "# nodes\n",
    "nx.draw_networkx_nodes(G, pos, node_size=1100)\n",
    "\n",
    "# edges\n",
    "nx.draw_networkx_edges(G, pos, edgelist=elarge,\n",
    "                       width=6)\n",
    "nx.draw_networkx_edges(G, pos, edgelist=emedium,\n",
    "                       width=6, alpha=0.5, edge_color='y', style='dotted')\n",
    "nx.draw_networkx_edges(G, pos, edgelist=esmall,\n",
    "                       width=6, alpha=0.5, edge_color='b', style='dashed')\n",
    "\n",
    "# labels\n",
    "nx.draw_networkx_labels(G, pos, font_size=15, font_family='Times New Roman')\n",
    "nx.spring_layout(G, k=None, pos=None, fixed=None, iterations=50, threshold=0.00001, weight='weight', scale=4, center=None, dim=2, random_state=None)\n",
    "\n",
    "plt.axis('off')\n",
    "plt.show()"
   ]
  },
  {
   "cell_type": "code",
   "execution_count": 7,
   "metadata": {},
   "outputs": [
    {
     "name": "stdout",
     "output_type": "stream",
     "text": [
      "14\n",
      "['dep', 'int', 'los', 'gai', 'dap', 'iap', 'iso', 'hso', 'agi', 'ret', 'fat', 'wor', 'con', 'dea']\n",
      "73\n",
      "[('dep', 'int'), ('dep', 'los'), ('dep', 'gai'), ('dep', 'dap'), ('dep', 'iap'), ('dep', 'iso'), ('dep', 'hso'), ('dep', 'agi'), ('dep', 'ret'), ('dep', 'fat'), ('dep', 'wor'), ('dep', 'con'), ('dep', 'dea'), ('int', 'los'), ('int', 'gai'), ('int', 'dap'), ('int', 'iap'), ('int', 'iso'), ('int', 'hso'), ('int', 'agi'), ('int', 'ret'), ('int', 'fat'), ('int', 'wor'), ('int', 'con'), ('int', 'dea'), ('los', 'gai'), ('los', 'dap'), ('los', 'iso'), ('los', 'wor'), ('los', 'con'), ('los', 'dea'), ('gai', 'dap'), ('gai', 'iap'), ('gai', 'iso'), ('gai', 'hso'), ('gai', 'fat'), ('gai', 'wor'), ('dap', 'iso'), ('dap', 'hso'), ('dap', 'agi'), ('dap', 'ret'), ('dap', 'fat'), ('dap', 'wor'), ('dap', 'con'), ('dap', 'dea'), ('iap', 'hso'), ('iap', 'agi'), ('iap', 'ret'), ('iap', 'fat'), ('iap', 'dea'), ('iso', 'hso'), ('iso', 'agi'), ('iso', 'fat'), ('iso', 'con'), ('iso', 'dea'), ('hso', 'ret'), ('hso', 'fat'), ('hso', 'wor'), ('hso', 'con'), ('hso', 'dea'), ('agi', 'fat'), ('agi', 'wor'), ('agi', 'con'), ('agi', 'dea'), ('ret', 'fat'), ('ret', 'wor'), ('ret', 'con'), ('ret', 'dea'), ('fat', 'wor'), ('fat', 'con'), ('wor', 'con'), ('wor', 'dea'), ('con', 'dea')]\n",
      "<dict_keyiterator object at 0x000001677BCA8138>\n",
      "-3.1946\n"
     ]
    }
   ],
   "source": [
    "# Some extra info for checking\n",
    "print(G.number_of_nodes())\n",
    "print(G.nodes())\n",
    "print(G.number_of_edges())\n",
    "print(G.edges())\n",
    "print(G.neighbors(\"dep\"))\n",
    "print(G.node[\"int\"][\"threshold\"])\n",
    "nx.draw(G)"
   ]
  },
  {
   "cell_type": "code",
   "execution_count": 8,
   "metadata": {},
   "outputs": [],
   "source": [
    "# To json format for site\n",
    "data = nx.json_graph.node_link_data(G)\n",
    "with open('data.json', 'w') as outfile:\n",
    "    json.dump(data, outfile)"
   ]
  },
  {
   "cell_type": "code",
   "execution_count": null,
   "metadata": {},
   "outputs": [],
   "source": []
  },
  {
   "cell_type": "code",
   "execution_count": null,
   "metadata": {},
   "outputs": [],
   "source": []
  }
 ],
 "metadata": {
  "kernelspec": {
   "display_name": "Python 3",
   "language": "python",
   "name": "python3"
  },
  "language_info": {
   "codemirror_mode": {
    "name": "ipython",
    "version": 3
   },
   "file_extension": ".py",
   "mimetype": "text/x-python",
   "name": "python",
   "nbconvert_exporter": "python",
   "pygments_lexer": "ipython3",
   "version": "3.6.1"
  }
 },
 "nbformat": 4,
 "nbformat_minor": 2
}
